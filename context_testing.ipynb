{
 "cells": [
  {
   "cell_type": "code",
   "execution_count": 5,
   "metadata": {
    "collapsed": false
   },
   "outputs": [
    {
     "name": "stdout",
     "output_type": "stream",
     "text": [
      "The autoreload extension is already loaded. To reload it, use:\n",
      "  %reload_ext autoreload\n"
     ]
    }
   ],
   "source": [
    "%load_ext autoreload\n",
    "%autoreload 2"
   ]
  },
  {
   "cell_type": "markdown",
   "metadata": {},
   "source": [
    "### Setup"
   ]
  },
  {
   "cell_type": "code",
   "execution_count": 6,
   "metadata": {
    "collapsed": false
   },
   "outputs": [],
   "source": [
    "from backend.contextbased.context_helper import ContextHelper\n",
    "from backend.contextbased.context import Context\n",
    "from backend.contextbased.sparql_generator import generate_sparql_from_context\n",
    "from backend.history import History\n",
    "import yaml\n",
    "\n",
    "config = None\n",
    "with open('config.yaml', 'r') as stream:\n",
    "    try:\n",
    "        config = yaml.load(stream)\n",
    "        #print('Configurations loaded:\\n%s' % config)\n",
    "    except yaml.YAMLError as exc:\n",
    "        print(exc)\n",
    "\n",
    "history = History(config['logserver']['hostname'],\n",
    "                       config['logserver']['port'],\n",
    "                       config['logserver']['db'],\n",
    "                       config['logserver']['collection'])\n",
    "\n",
    "sparql_endpoint = config['imdb_sparql']['url']\n",
    "rasa_endpoint = config['rasa']['url']\n",
    "\n",
    "# instantiate context helper\n",
    "ch = ContextHelper(sparql_endpoint, rasa_endpoint)\n",
    "\n",
    "rasa = ch.rasa.rasa # ch.rasa is rasa_extractor; ch.rasa.rasa is rasa_connector"
   ]
  },
  {
   "cell_type": "markdown",
   "metadata": {},
   "source": [
    "### Test 1\n",
    "User: *list movies of 2016*\n",
    "\n",
    "Bot: list of movies\n",
    "\n",
    "User: *only the ones with Brad Pitt*"
   ]
  },
  {
   "cell_type": "code",
   "execution_count": 7,
   "metadata": {
    "collapsed": false
   },
   "outputs": [
    {
     "name": "stdout",
     "output_type": "stream",
     "text": [
      "Intent: moviesOfYear\n",
      "Intent confidence 1.140854\n",
      "Result entities: [{u'extractor': u'ner_mitie', u'end': 19, u'start': 15, u'value': u'2016', u'entity': u'dbpprop:releaseDate'}]\n",
      "[<backend.contextbased.context.Entity object at 0x1045af290>, <backend.contextbased.context.Entity object at 0x1045afc10>]\n",
      " \n",
      " SELECT  ?Film_1_dbpprop_name WHERE { \n",
      "?Film1 rdf:type dbp-owl:Film.\n",
      "?Film1 dbpprop:name ?Film_1_dbpprop_name.\n",
      "?Film1 ns:release ?Release1.\n",
      "?Release1 rdf:type ns:Release.\n",
      "?Release1 dbpprop:releaseDate 2016.\n",
      "?Release1 dbpprop:releaseLocation \"USA\". \n",
      " } LIMIT 10\n"
     ]
    }
   ],
   "source": [
    "text1 = \"list movies of 2016\"\n",
    "intent, intent_confidence, entities, properties, literal_objects, ranges = ch.rasa.extract_from_text(text1)\n",
    "\n",
    "old_context = Context(entities)\n",
    "\n",
    "query, select_columns = generate_sparql_from_context(old_context, prefixes=False)\n",
    "print query"
   ]
  },
  {
   "cell_type": "code",
   "execution_count": 8,
   "metadata": {
    "collapsed": false
   },
   "outputs": [
    {
     "name": "stdout",
     "output_type": "stream",
     "text": [
      "[{u'extractor': u'ner_mitie', u'end': 23, u'start': 19, u'value': u'Brad', u'entity': u'foaf:name'}, {u'extractor': u'ner_mitie', u'end': 28, u'start': 24, u'value': u'Pitt', u'entity': u'foaf:familyName'}]\n",
      "Intent: moviesOfDirector\n",
      "Intent confidence: 0.299188035848\n",
      "Entities: (foaf:name,Brad) (foaf:familyName,Pitt)\n"
     ]
    }
   ],
   "source": [
    "text2 = \"only the ones with Brad Pitt\"\n",
    "\n",
    "result = rasa.query(text2)\n",
    "\n",
    "intent = result['intent']['name']\n",
    "intent_confidence = result['intent']['confidence']\n",
    "entities = result['entities']\n",
    "print entities\n",
    "\n",
    "print 'Intent: %s' % intent\n",
    "print 'Intent confidence: %s' % intent_confidence\n",
    "print 'Entities: %s' % ' '.join(['(%s,%s)' % (e['entity'],e['value']) for e in entities])"
   ]
  },
  {
   "cell_type": "code",
   "execution_count": 9,
   "metadata": {
    "collapsed": false
   },
   "outputs": [
    {
     "name": "stdout",
     "output_type": "stream",
     "text": [
      "a\n",
      " \n",
      " SELECT  ?Film_1_dbpprop_name WHERE { \n",
      "?Film1 rdf:type dbp-owl:Film.\n",
      "?Film1 dbpprop:name ?Film_1_dbpprop_name.\n",
      "?Film1 ns:release ?Release1.\n",
      "?Film1 dbpprop:director ?MovieDirector1.\n",
      "?Release1 rdf:type ns:Release.\n",
      "?Release1 dbpprop:releaseDate 2016.\n",
      "?Release1 dbpprop:releaseLocation \"USA\".\n",
      "?MovieDirector1 rdf:type dbp-owl:MovieDirector.\n",
      "?MovieDirector1 foaf:name \"Brad\".\n",
      "?MovieDirector1 foaf:familyName \"Pitt\". \n",
      " } LIMIT 10\n"
     ]
    }
   ],
   "source": [
    "from backend.contextbased.default_intents import *\n",
    "\n",
    "new_context = Context(moviesOfDirector(entities, old_context))\n",
    "\n",
    "query, select_columns = generate_sparql_from_context(new_context, prefixes=False)\n",
    "print query"
   ]
  },
  {
   "cell_type": "markdown",
   "metadata": {
    "collapsed": false
   },
   "source": [
    "### Test 2\n",
    "User: *list movies of 2016*\n",
    "\n",
    "Bot: list of movies\n",
    "\n",
    "User: *only horror movies*"
   ]
  },
  {
   "cell_type": "code",
   "execution_count": 11,
   "metadata": {
    "collapsed": false
   },
   "outputs": [
    {
     "name": "stdout",
     "output_type": "stream",
     "text": [
      "Intent: moviesOfYear\n",
      "Intent confidence 1.140854\n",
      "Result entities: [{u'extractor': u'ner_mitie', u'end': 19, u'start': 15, u'value': u'2016', u'entity': u'dbpprop:releaseDate'}]\n",
      "[<backend.contextbased.context.Entity object at 0x1096f1090>, <backend.contextbased.context.Entity object at 0x109759d10>]\n",
      " \n",
      " SELECT  ?Film_1_dbpprop_name WHERE { \n",
      "?Film1 rdf:type dbp-owl:Film.\n",
      "?Film1 dbpprop:name ?Film_1_dbpprop_name.\n",
      "?Film1 ns:release ?Release1.\n",
      "?Release1 rdf:type ns:Release.\n",
      "?Release1 dbpprop:releaseDate 2016.\n",
      "?Release1 dbpprop:releaseLocation \"USA\". \n",
      " } LIMIT 10\n"
     ]
    }
   ],
   "source": [
    "text1 = \"list movies of 2016\"\n",
    "intent, intent_confidence, entities, properties, literal_objects, ranges = ch.rasa.extract_from_text(text1)\n",
    "\n",
    "old_context = Context(entities)\n",
    "\n",
    "query, select_columns = generate_sparql_from_context(old_context, prefixes=False)\n",
    "print query"
   ]
  },
  {
   "cell_type": "code",
   "execution_count": 16,
   "metadata": {
    "collapsed": false
   },
   "outputs": [
    {
     "name": "stdout",
     "output_type": "stream",
     "text": [
      "[{u'extractor': u'ner_mitie', u'end': 11, u'start': 5, u'value': u'Horror', u'entity': u'dbpprop:genre'}]\n",
      "Intent: moviesOfGenre\n",
      "Intent confidence: 0.595925237943\n",
      "Entities: (dbpprop:genre,Horror)\n"
     ]
    }
   ],
   "source": [
    "text2 = \"only Horror movies\"\n",
    "\n",
    "result = rasa.query(text2)\n",
    "\n",
    "intent = result['intent']['name']\n",
    "intent_confidence = result['intent']['confidence']\n",
    "entities = result['entities']\n",
    "print entities\n",
    "\n",
    "print 'Intent: %s' % intent\n",
    "print 'Intent confidence: %s' % intent_confidence\n",
    "print 'Entities: %s' % ' '.join(['(%s,%s)' % (e['entity'],e['value']) for e in entities])"
   ]
  },
  {
   "cell_type": "code",
   "execution_count": 17,
   "metadata": {
    "collapsed": false
   },
   "outputs": [
    {
     "name": "stdout",
     "output_type": "stream",
     "text": [
      "a\n",
      "a\n",
      " \n",
      " SELECT  ?Film_1_dbpprop_name WHERE { \n",
      "?Film1 rdf:type dbp-owl:Film.\n",
      "?Film1 dbpprop:name ?Film_1_dbpprop_name.\n",
      "?Film1 ns:release ?Release1.\n",
      "?Film1 dbpprop:genre \"Horror\".\n",
      "?Release1 rdf:type ns:Release.\n",
      "?Release1 dbpprop:releaseDate 2016.\n",
      "?Release1 dbpprop:releaseLocation \"USA\". \n",
      " } LIMIT 10\n"
     ]
    }
   ],
   "source": [
    "from backend.contextbased.default_intents import *\n",
    "\n",
    "new_context = Context(moviesOfGenre(entities, old_context))\n",
    "\n",
    "query, select_columns = generate_sparql_from_context(new_context, prefixes=False)\n",
    "print query"
   ]
  },
  {
   "cell_type": "markdown",
   "metadata": {
    "collapsed": true
   },
   "source": [
    "### Test 3\n",
    "User: *what is nemo about?*\n",
    "\n",
    "Bot: plot of inception\n",
    "\n",
    "User: *who is starring in?*"
   ]
  },
  {
   "cell_type": "code",
   "execution_count": 29,
   "metadata": {
    "collapsed": false
   },
   "outputs": [
    {
     "name": "stdout",
     "output_type": "stream",
     "text": [
      "Intent: plotOf\n",
      "Intent confidence 0.000000\n",
      "Result entities: [{u'extractor': u'ner_mitie', u'end': 14, u'start': 8, u'value': u'django', u'entity': u'dbp-owl:Film'}, {u'extractor': u'ner_mitie', u'end': 24, u'start': 15, u'value': u'unchained', u'entity': u'dbp-owl:Film'}]\n",
      " \n",
      " SELECT  WHERE { \n",
      "?Film1 rdf:type dbp-owl:Film.\n",
      "?Film1 dbpprop:name \"django\".\n",
      "?Film1 rdf:type dbp-owl:Film.\n",
      "?Film1 dbpprop:name \"unchained\". \n",
      " } LIMIT 10\n"
     ]
    }
   ],
   "source": [
    "text1 = \"what is django unchained about?\"\n",
    "intent, intent_confidence, entities, properties, literal_objects, ranges = ch.rasa.extract_from_text(text1)\n",
    "\n",
    "old_context = Context(entities)\n",
    "\n",
    "query, select_columns = generate_sparql_from_context(old_context, prefixes=False)\n",
    "print query"
   ]
  },
  {
   "cell_type": "code",
   "execution_count": 30,
   "metadata": {
    "collapsed": false
   },
   "outputs": [
    {
     "name": "stdout",
     "output_type": "stream",
     "text": [
      "[]\n",
      "Intent: starringIn\n",
      "Intent confidence: 0.822029720187\n",
      "Entities: \n"
     ]
    }
   ],
   "source": [
    "text2 = \"who is starring in?\"\n",
    "\n",
    "result = rasa.query(text2)\n",
    "\n",
    "intent = result['intent']['name']\n",
    "intent_confidence = result['intent']['confidence']\n",
    "entities = result['entities']\n",
    "print entities\n",
    "\n",
    "print 'Intent: %s' % intent\n",
    "print 'Intent confidence: %s' % intent_confidence\n",
    "print 'Entities: %s' % ' '.join(['(%s,%s)' % (e['entity'],e['value']) for e in entities])"
   ]
  },
  {
   "cell_type": "code",
   "execution_count": 31,
   "metadata": {
    "collapsed": false
   },
   "outputs": [
    {
     "name": "stdout",
     "output_type": "stream",
     "text": [
      " \n",
      " SELECT  ?Actor_1_foaf_name ?Actor_1_foaf_familyName WHERE { \n",
      "?Film1 rdf:type dbp-owl:Film.\n",
      "?Film1 dbpprop:name \"django\".\n",
      "?Film1 dbpprop:starring ?Actor1.\n",
      "?Actor1 rdf:type dbp-owl:Actor.\n",
      "?Actor1 foaf:name ?Actor_1_foaf_name.\n",
      "?Actor1 foaf:familyName ?Actor_1_foaf_familyName. \n",
      " } LIMIT 10\n"
     ]
    }
   ],
   "source": [
    "from backend.contextbased.default_intents import *\n",
    "\n",
    "new_context = Context(starringIn(entities, old_context))\n",
    "\n",
    "query, select_columns = generate_sparql_from_context(new_context, prefixes=False)\n",
    "print query"
   ]
  },
  {
   "cell_type": "code",
   "execution_count": null,
   "metadata": {
    "collapsed": true
   },
   "outputs": [],
   "source": []
  }
 ],
 "metadata": {
  "kernelspec": {
   "display_name": "Python 2",
   "language": "python",
   "name": "python2"
  },
  "language_info": {
   "codemirror_mode": {
    "name": "ipython",
    "version": 2
   },
   "file_extension": ".py",
   "mimetype": "text/x-python",
   "name": "python",
   "nbconvert_exporter": "python",
   "pygments_lexer": "ipython2",
   "version": "2.7.9"
  }
 },
 "nbformat": 4,
 "nbformat_minor": 0
}
